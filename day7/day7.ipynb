{
 "cells": [
  {
   "cell_type": "code",
   "execution_count": 555,
   "metadata": {},
   "outputs": [],
   "source": [
    "# load input\n",
    "file = open(\"input.txt\", \"r\")\n"
   ]
  },
  {
   "cell_type": "code",
   "execution_count": 556,
   "metadata": {},
   "outputs": [],
   "source": [
    "# create Entry data structure\n",
    "class Leaf:\n",
    "    def __init__(self, name, size, parent):\n",
    "        self.name = name\n",
    "        self.size = size\n",
    "        self.parent = parent\n",
    "        \n",
    "    def get_size(self):\n",
    "        return self.size\n",
    "    \n",
    "    def __repr__(self):\n",
    "        return f\"L:{self.name}\"\n",
    "    \n",
    "class Node:\n",
    "    def __init__(self, name, children, parent):\n",
    "        self.name = name\n",
    "        self.children = children\n",
    "        self.parent = parent\n",
    "        \n",
    "    def add_child(self, child):\n",
    "        self.children.append(child)\n",
    "\n",
    "    def get_size(self):\n",
    "        size = 0\n",
    "        for child in self.children:\n",
    "            size += child.get_size()\n",
    "        return size\n",
    "    \n",
    "    def __repr__(self):\n",
    "        if self.children == []:\n",
    "            return f\"N:{self.name}\"\n",
    "        return f\"N:{self.name} {self.children}\"\n",
    "\n",
    "# create root node\n",
    "root = Node(\"/\", [], None)\n",
    "current = root\n"
   ]
  },
  {
   "cell_type": "code",
   "execution_count": 557,
   "metadata": {},
   "outputs": [],
   "source": [
    "def read_line(line, current, root):\n",
    "    if \"$ cd /\" in line:\n",
    "        return root\n",
    "    elif \"$ cd ..\" in line:\n",
    "        if current.parent is not None:\n",
    "            return current.parent  \n",
    "        else:\n",
    "            return current         \n",
    "    elif \"$ cd \" in line:\n",
    "        new_dir_name = line.split(\" \")[2][0:-1]\n",
    "        for child in current.children:\n",
    "            if child.name == new_dir_name:\n",
    "                return child\n",
    "        print(\"ERROR: directory not found\")\n",
    "    elif \"$ ls\" in line:\n",
    "        return current\n",
    "    else:\n",
    "        splitline = line.split(\" \")\n",
    "        if splitline[0] == \"dir\":\n",
    "            current.add_child(Node(splitline[1][0:-1], [], current))\n",
    "            return current\n",
    "        else:\n",
    "            current.add_child(Leaf(splitline[1][0:-1], int(splitline[0]), current))\n",
    "            return current\n",
    "    "
   ]
  },
  {
   "cell_type": "code",
   "execution_count": 564,
   "metadata": {},
   "outputs": [
    {
     "name": "stdout",
     "output_type": "stream",
     "text": [
      "total disk space: 70000000, remaining space: 26043024, goal space: 30000000, space to find: 3956976\n",
      "('zmljzwt', 3979145)\n"
     ]
    }
   ],
   "source": [
    "# attempt to read first line\n",
    "for line in file:\n",
    "    current = read_line(line, current, root)\n",
    "    \n",
    "node_sum = 0\n",
    "node_sizes = {}\n",
    "    \n",
    "# traverse tree\n",
    "def traverse_tree(node):\n",
    "    if isinstance(node, Leaf):\n",
    "        return\n",
    "    elif isinstance(node, Node):\n",
    "        for child in node.children:\n",
    "            traverse_tree(child)\n",
    "        global node_sizes\n",
    "        node_sizes[node.name] = node.get_size()\n",
    "\n",
    "traverse_tree(root)\n",
    "# print(node_sum)\n",
    "# print(node_sizes)\n",
    "\n",
    "total_disk_space = 70000000\n",
    "remaining_space = total_disk_space - node_sizes[\"/\"]\n",
    "goal_space = 30000000\n",
    "space_to_find = goal_space - remaining_space\n",
    "print(f\"total disk space: {total_disk_space}, remaining space: {remaining_space}, goal space: {goal_space}, space to find: {space_to_find}\")\n",
    "\n",
    "# get the smallest node that is larger than the remaining space\n",
    "# first sort the nodes by size\n",
    "sorted_nodes = sorted(node_sizes.items(), key=lambda x: x[1])\n",
    "# print(sorted_nodes)\n",
    "\n",
    "for node in sorted_nodes:\n",
    "    if node[1] > space_to_find:\n",
    "        print(node)\n",
    "        break\n",
    "\n"
   ]
  }
 ],
 "metadata": {
  "kernelspec": {
   "display_name": "Python 3",
   "language": "python",
   "name": "python3"
  },
  "language_info": {
   "codemirror_mode": {
    "name": "ipython",
    "version": 3
   },
   "file_extension": ".py",
   "mimetype": "text/x-python",
   "name": "python",
   "nbconvert_exporter": "python",
   "pygments_lexer": "ipython3",
   "version": "3.10.6"
  },
  "orig_nbformat": 4,
  "vscode": {
   "interpreter": {
    "hash": "916dbcbb3f70747c44a77c7bcd40155683ae19c65e1c03b4aa3499c5328201f1"
   }
  }
 },
 "nbformat": 4,
 "nbformat_minor": 2
}
